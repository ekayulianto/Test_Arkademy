{
 "cells": [
  {
   "cell_type": "code",
   "execution_count": 2,
   "metadata": {},
   "outputs": [
    {
     "name": "stdout",
     "output_type": "stream",
     "text": [
      "Tidak bisa mendapatkan profit pada hari-hari ini\n",
      "Tidak bisa mendapatkan profit pada hari-hari ini\n",
      "Tidak bisa mendapatkan profit pada hari-hari ini\n",
      "Tidak bisa mendapatkan profit pada hari-hari ini\n",
      "42\n",
      "Tidak bisa mendapatkan profit pada hari-hari ini\n",
      "50\n",
      "200\n",
      "102\n",
      "124\n",
      "Tidak bisa mendapatkan profit pada hari-hari ini\n",
      "Tidak bisa mendapatkan profit pada hari-hari ini\n",
      "98\n",
      "Keuntungan Paling Besar:  200\n"
     ]
    }
   ],
   "source": [
    "import numpy as np\n",
    "\n",
    "harga_jual =np.array([10,20,30,40,42,10,50,200,102,124,2,29,98]) \n",
    "\n",
    "\n",
    "for i in range (len(harga_jual)):\n",
    "    if harga_jual[i]>40:          # misalkan harga beli sebesar 40           \n",
    "        print(harga_jual[i])\n",
    "    else:\n",
    "        print(\"Tidak bisa mendapatkan profit pada hari-hari ini\")\n",
    "\n",
    "        \n",
    "# Biggest Profit\n",
    "\n",
    "BP = (harga_jual[0:len(harga_jual)]) #nilai max\n",
    "print(\"Keuntungan Paling Besar: \", max(BP))"
   ]
  },
  {
   "cell_type": "code",
   "execution_count": null,
   "metadata": {},
   "outputs": [],
   "source": []
  }
 ],
 "metadata": {
  "kernelspec": {
   "display_name": "Python 3",
   "language": "python",
   "name": "python3"
  },
  "language_info": {
   "codemirror_mode": {
    "name": "ipython",
    "version": 3
   },
   "file_extension": ".py",
   "mimetype": "text/x-python",
   "name": "python",
   "nbconvert_exporter": "python",
   "pygments_lexer": "ipython3",
   "version": "3.7.4"
  }
 },
 "nbformat": 4,
 "nbformat_minor": 2
}
