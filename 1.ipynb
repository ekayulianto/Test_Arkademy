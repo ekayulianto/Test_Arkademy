{
 "cells": [
  {
   "cell_type": "code",
   "execution_count": 3,
   "metadata": {},
   "outputs": [],
   "source": [
    "import numpy as np\n",
    "import pandas as pd"
   ]
  },
  {
   "cell_type": "markdown",
   "metadata": {},
   "source": [
    "## Tampilan Python"
   ]
  },
  {
   "cell_type": "code",
   "execution_count": 7,
   "metadata": {},
   "outputs": [
    {
     "name": "stdout",
     "output_type": "stream",
     "text": [
      "Nama:  Eka\n",
      "Age:  22\n",
      "Address:  Jakarta Utara\n",
      "Hobbies:  Treveling, Basketball\n",
      "Married:  False\n",
      "interest_Coding:  True\n",
      "School:(\n",
      "Name, year_in, year_out, Major):  UI, \n",
      "2015, \n",
      "2019, '\n",
      "GEOF\n",
      "Skills (Matlab, Python):  Advanced, Beginner\n"
     ]
    }
   ],
   "source": [
    "def bio(name, age, address, hobbies, married, school, skills, coding):\n",
    "    print(\"Nama: \", name)\n",
    "    print(\"Age: \", age)\n",
    "    print (\"Address: \", address)\n",
    "    print(\"Hobbies: \", hobbies)\n",
    "    print(\"Married: \", married)\n",
    "    print(\"interest_Coding: \", coding)\n",
    "    print(\"School(Name, year_in, year_out, Major): \", school)\n",
    "    print(\"Skills (Matlab, Python): \", skills)\n",
    "    return \n",
    "\n",
    "#List\n",
    "name = \"Eka\"\n",
    "age = 22\n",
    "address = \"Jakarta Utara\"\n",
    "hobbies = np.array(\"Treveling, Basketball\")\n",
    "married = False\n",
    "school = np.array(\"UI, 2015, 2019, GEOF\")\n",
    "skills = np.array (\"Advanced, Beginner\")\n",
    "coding = True\n",
    "\n",
    "bio(name, age, address, hobbies, married, school, skills, coding)\n"
   ]
  },
  {
   "cell_type": "markdown",
   "metadata": {},
   "source": [
    "## Tampilan JSON (converting python objects to JSON string)"
   ]
  },
  {
   "cell_type": "code",
   "execution_count": 48,
   "metadata": {},
   "outputs": [
    {
     "name": "stdout",
     "output_type": "stream",
     "text": [
      "{\"name\": \"Eka\", \"Age\": 22, \"Address\": \"Jakarta Utara\", \"Hobbie\": [\"Traveling\", \"Basketball\"], \"Married\": false, \"List_School\": [{\"Key_name\": \"Universitas Indonesia\", \"year_in\": 2015, \"year_out\": 2019, \"Major\": \"Geophysics\"}], \"Skills\": [{\"Matlab\": \"Advanced\", \"Python\": \"Beginner\"}], \"Interest_coding\": true}\n"
     ]
    }
   ],
   "source": [
    "x = {\"name\": \"Eka\",\n",
    "     \"Age\": 22,\n",
    "     \"Address\": \"Jakarta Utara\",\n",
    "     \"Hobbie\": (\"Traveling\",\"Basketball\"),\n",
    "    \"Married\": False,\n",
    "    \"List_School\": [{\"Key_name\": \"Universitas Indonesia\", \"year_in\": 2015, \"year_out\": 2019, \"Major\": \"Geophysics\"}],\n",
    "    \"Skills\": [{\"Matlab\": \"Advanced\", \"Python\": \"Beginner\"}],\n",
    "    \"Interest_coding\": True}\n",
    "\n",
    "final = json.dumps(x)\n",
    "print(final)"
   ]
  },
  {
   "cell_type": "code",
   "execution_count": null,
   "metadata": {},
   "outputs": [],
   "source": []
  }
 ],
 "metadata": {
  "kernelspec": {
   "display_name": "Python 3",
   "language": "python",
   "name": "python3"
  },
  "language_info": {
   "codemirror_mode": {
    "name": "ipython",
    "version": 3
   },
   "file_extension": ".py",
   "mimetype": "text/x-python",
   "name": "python",
   "nbconvert_exporter": "python",
   "pygments_lexer": "ipython3",
   "version": "3.7.4"
  }
 },
 "nbformat": 4,
 "nbformat_minor": 2
}
