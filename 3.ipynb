{
 "cells": [
  {
   "cell_type": "code",
   "execution_count": 3,
   "metadata": {},
   "outputs": [],
   "source": [
    "import re # regex"
   ]
  },
  {
   "cell_type": "code",
   "execution_count": 4,
   "metadata": {},
   "outputs": [
    {
     "name": "stdout",
     "output_type": "stream",
     "text": [
      "Split with zero value:  ['1234', '1234', '12', '923812']\n",
      "Output: [1234, 1234, 12, 923812]\n",
      "Final Output:  1234123412923812\n"
     ]
    }
   ],
   "source": [
    "datalist = 1234012340120923812\n",
    "a=str(datalist).split(\"0\") #split with string\n",
    "print(\"Split with zero value: \", a)\n",
    "\n",
    "# Converting all string to integer\n",
    "for i in range (0, len(a)):\n",
    "    a[i] = int(a[i])\n",
    "    \n",
    "print(\"Output: \"+ str(a))\n",
    "\n",
    "# Groping all Integer\n",
    "final = int(\"\".join(map(str, a)))\n",
    "print (\"Final Output: \", final)"
   ]
  },
  {
   "cell_type": "code",
   "execution_count": null,
   "metadata": {},
   "outputs": [],
   "source": []
  }
 ],
 "metadata": {
  "kernelspec": {
   "display_name": "Python 3",
   "language": "python",
   "name": "python3"
  },
  "language_info": {
   "codemirror_mode": {
    "name": "ipython",
    "version": 3
   },
   "file_extension": ".py",
   "mimetype": "text/x-python",
   "name": "python",
   "nbconvert_exporter": "python",
   "pygments_lexer": "ipython3",
   "version": "3.7.4"
  }
 },
 "nbformat": 4,
 "nbformat_minor": 2
}
