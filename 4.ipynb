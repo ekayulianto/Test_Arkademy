{
 "cells": [
  {
   "cell_type": "code",
   "execution_count": 1,
   "metadata": {},
   "outputs": [],
   "source": [
    "import numpy as np\n",
    "import pandas as pd\n",
    "from pandas import DataFrame"
   ]
  },
  {
   "cell_type": "code",
   "execution_count": 2,
   "metadata": {},
   "outputs": [
    {
     "name": "stdout",
     "output_type": "stream",
     "text": [
      "         Movies  Category_name\n",
      "0  Interstaller  category_data\n",
      "1   Dark Knight  category_data\n",
      "     Music  Category_name\n",
      "0    Adams  category_data\n",
      "1  Nirvana  category_data\n"
     ]
    }
   ],
   "source": [
    "data = {\"Movies\": [\"Interstaller\", \"Dark Knight\"],\n",
    "       \"Category_name\": [\"category_data\", \"category_data\"]}\n",
    "data2 = {\"Music\": [\"Adams\", \"Nirvana\"],\n",
    "       \"Category_name\": [\"category_data\", \"category_data\"]}\n",
    "\n",
    "df = DataFrame(data, columns=[\"Movies\", \"Category_name\"])\n",
    "df2 = DataFrame(data2, columns=[\"Music\", \"Category_name\"])\n",
    "\n",
    "print(df) #Movies\n",
    "print(df2) #Music\n",
    "\n"
   ]
  },
  {
   "cell_type": "code",
   "execution_count": null,
   "metadata": {},
   "outputs": [],
   "source": []
  }
 ],
 "metadata": {
  "kernelspec": {
   "display_name": "Python 3",
   "language": "python",
   "name": "python3"
  },
  "language_info": {
   "codemirror_mode": {
    "name": "ipython",
    "version": 3
   },
   "file_extension": ".py",
   "mimetype": "text/x-python",
   "name": "python",
   "nbconvert_exporter": "python",
   "pygments_lexer": "ipython3",
   "version": "3.7.4"
  }
 },
 "nbformat": 4,
 "nbformat_minor": 2
}
