{
 "cells": [
  {
   "cell_type": "code",
   "execution_count": 6,
   "metadata": {},
   "outputs": [],
   "source": [
    "import numpy as np\n",
    "import re"
   ]
  },
  {
   "cell_type": "code",
   "execution_count": 10,
   "metadata": {},
   "outputs": [
    {
     "name": "stdout",
     "output_type": "stream",
     "text": [
      "Name:  Eka\n",
      "Age:  22\n",
      "Username:  eka_26\n"
     ]
    }
   ],
   "source": [
    "Biodata = \"Eka is 22 years and the username is eka_26\"\n",
    "\n",
    "Eka = re.search(r'\\S\\S\\S', Biodata) #S is str\n",
    "match = re.search(r'\\d\\d', Biodata) # d is int\n",
    "username = re.search(r'\\w\\w\\w\\w\\d\\d', Biodata) #w (include: str, underscore)\n",
    "\n",
    "print(\"Name: \", Eka.group())\n",
    "print(\"Age: \", match.group())\n",
    "print(\"Username: \", username.group())"
   ]
  },
  {
   "cell_type": "code",
   "execution_count": null,
   "metadata": {},
   "outputs": [],
   "source": []
  }
 ],
 "metadata": {
  "kernelspec": {
   "display_name": "Python 3",
   "language": "python",
   "name": "python3"
  },
  "language_info": {
   "codemirror_mode": {
    "name": "ipython",
    "version": 3
   },
   "file_extension": ".py",
   "mimetype": "text/x-python",
   "name": "python",
   "nbconvert_exporter": "python",
   "pygments_lexer": "ipython3",
   "version": "3.7.4"
  }
 },
 "nbformat": 4,
 "nbformat_minor": 2
}
